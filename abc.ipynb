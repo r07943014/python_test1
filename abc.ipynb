{
 "metadata": {
  "language_info": {
   "codemirror_mode": {
    "name": "ipython",
    "version": 3
   },
   "file_extension": ".py",
   "mimetype": "text/x-python",
   "name": "python",
   "nbconvert_exporter": "python",
   "pygments_lexer": "ipython3",
   "version": "3.8.5-final"
  },
  "orig_nbformat": 2,
  "kernelspec": {
   "name": "Python 3.8.5 64-bit",
   "display_name": "Python 3.8.5 64-bit",
   "metadata": {
    "interpreter": {
     "hash": "31f2aee4e71d21fbe5cf8b01ff0e069b9275f58929596ceb00d14d90e3e16cd6"
    }
   }
  }
 },
 "nbformat": 4,
 "nbformat_minor": 2,
 "cells": [
  {
   "cell_type": "code",
   "execution_count": 3,
   "metadata": {},
   "outputs": [
    {
     "output_type": "stream",
     "name": "stdout",
     "text": [
      "61\n"
     ]
    }
   ],
   "source": [
    "# I\n",
    "char = input()\n",
    "print(hex(ord(char))[2:])"
   ]
  },
  {
   "cell_type": "code",
   "execution_count": 5,
   "metadata": {},
   "outputs": [
    {
     "output_type": "stream",
     "name": "stdout",
     "text": [
      "*bbcd *bcde *bdef\n"
     ]
    }
   ],
   "source": [
    "# J\n",
    "string = input()\n",
    "pat = input()\n",
    "chg = input()\n",
    "\n",
    "part = string.split(pat)\n",
    "result = part[0]\n",
    "\n",
    "for i in range(len(part)-1):\n",
    "    result += chg+part[i+1]\n",
    "print(result)"
   ]
  },
  {
   "cell_type": "code",
   "execution_count": 7,
   "metadata": {},
   "outputs": [
    {
     "output_type": "stream",
     "name": "stdout",
     "text": [
      "90.750\n"
     ]
    }
   ],
   "source": [
    "# K\n",
    "length = float(input())\n",
    "print('%.3f'%(length/1.6))"
   ]
  },
  {
   "cell_type": "code",
   "execution_count": 10,
   "metadata": {},
   "outputs": [
    {
     "output_type": "stream",
     "name": "stdout",
     "text": [
      "4769\n"
     ]
    }
   ],
   "source": [
    "# L\n",
    "number = input()\n",
    "number = [int(number[i]) for i in range(4)]\n",
    "number[0] = str((number[0]+5)%10)\n",
    "number[1] = str((number[1]+7)%10)\n",
    "number[2] = str((number[2]+1)%10)\n",
    "number[3] = str((number[3]+3)%10)\n",
    "print(number[2]+number[3]+number[0]+number[1])"
   ]
  },
  {
   "cell_type": "code",
   "execution_count": 14,
   "metadata": {},
   "outputs": [
    {
     "output_type": "stream",
     "name": "stdout",
     "text": [
      "1000\n"
     ]
    }
   ],
   "source": [
    "# M\n",
    "import math\n",
    "t1 = input()\n",
    "t2 = input()\n",
    "\n",
    "t1 = t1.split(' ')\n",
    "t1 = int(t1[0])*60+int(t1[1])\n",
    "t2 = t2.split(' ')\n",
    "t2 = int(t2[0])*60+int(t2[1])\n",
    "\n",
    "t2 = t2 + 60*24 if t2<t1 else t2\n",
    "dif = t2 - t1\n",
    "dur = math.ceil(dif/30)\n",
    "\n",
    "cost = min(dur, 2)*30 + max(min(dur-2, 4), 0)*40 + max(dur-6, 0)*60\n",
    "print(cost)"
   ]
  },
  {
   "cell_type": "code",
   "execution_count": 17,
   "metadata": {},
   "outputs": [
    {
     "output_type": "stream",
     "name": "stdout",
     "text": [
      "False\n"
     ]
    }
   ],
   "source": [
    "# N\n",
    "a, b, c = [int(l) for l in input().split(' ')]\n",
    "print(a+b>c and b+c>a and c+a>b and b>a and b>c)"
   ]
  },
  {
   "cell_type": "code",
   "execution_count": 18,
   "metadata": {},
   "outputs": [
    {
     "output_type": "stream",
     "name": "stdout",
     "text": [
      "3+5=8\n3*5=15\n3-5=-2\n3/5=0...3\n"
     ]
    }
   ],
   "source": [
    "# O\n",
    "string = input()\n",
    "a, b = int(string[0]), int(string[1])\n",
    "print('{}+{}={}'.format(a, b, a+b))\n",
    "print('{}*{}={}'.format(a, b, a*b))\n",
    "print('{}-{}={}'.format(a, b, a-b))\n",
    "print('{}/{}={}...{}'.format(a, b, a//b, a%b))"
   ]
  },
  {
   "cell_type": "code",
   "execution_count": 23,
   "metadata": {},
   "outputs": [
    {
     "output_type": "stream",
     "name": "stdout",
     "text": [
      "13.419\n"
     ]
    }
   ],
   "source": [
    "# P\n",
    "x = float(input())\n",
    "if x<10:\n",
    "    print('%.3f'%(x**2+2.33))\n",
    "elif 10<=x<15:\n",
    "    print('%.3f'%(3.8*x**2-3*x))\n",
    "else:\n",
    "    print('%.3f'%(x**3+2.5*x**2-x))"
   ]
  },
  {
   "cell_type": "code",
   "execution_count": null,
   "metadata": {},
   "outputs": [],
   "source": []
  }
 ]
}